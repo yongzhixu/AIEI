{
 "cells": [
  {
   "cell_type": "code",
   "execution_count": 1,
   "metadata": {},
   "outputs": [],
   "source": [
    "# !unzip imagepython.zip"
   ]
  },
  {
   "cell_type": "code",
   "execution_count": 2,
   "metadata": {},
   "outputs": [
    {
     "data": {
      "text/plain": [
       "['asr_bgm_aksk_demo.py',\n",
       " 'asr_bgm_token_demo.py',\n",
       " 'asr_bgm_token_with_proxy_demo.py',\n",
       " 'celebrity_recognition_aksk_demo.py',\n",
       " 'celebrity_recognition_token_demo.py',\n",
       " 'dark_enhance_aksk_demo.py',\n",
       " 'dark_enhance_token_demo.py',\n",
       " 'data',\n",
       " 'image_defog_aksk_demo.py',\n",
       " 'image_defog_token_demo.py',\n",
       " 'image_sdk',\n",
       " 'image_tagging_aksk_demo.py',\n",
       " 'image_tagging_token_demo.py',\n",
       " 'label',\n",
       " 'README.md',\n",
       " 'recapture_detect_aksk_demo.py',\n",
       " 'recapture_detect_token_demo.py',\n",
       " 'super_resolution_aksk_demo.py',\n",
       " 'super_resolution_token_demo.py',\n",
       " '__init__.py']"
      ]
     },
     "execution_count": 2,
     "metadata": {},
     "output_type": "execute_result"
    }
   ],
   "source": [
    "import os\n",
    "os.getcwd()\n",
    "os.chdir('./imagepython/python')\n",
    "os.listdir()"
   ]
  },
  {
   "cell_type": "code",
   "execution_count": 3,
   "metadata": {},
   "outputs": [],
   "source": [
    "# 调用包从图像识别包中调用，图像标签,工具包\n",
    "from image_sdk.utils import encode_to_base64\n",
    "from image_sdk.image_tagging import image_tagging_aksk\n",
    "from image_sdk.utils import init_global_env\n",
    "\n",
    "# 调用json解析传回的结果\n",
    "import json\n",
    "# 操作系统文件/文件夹的包\n",
    "import os\n",
    "import shutil\n",
    "# 图像处理展示相关的包\n",
    "\n",
    "from PIL import Image\n",
    "import numpy as np\n",
    "import matplotlib.pyplot as plt\n"
   ]
  },
  {
   "cell_type": "code",
   "execution_count": 4,
   "metadata": {},
   "outputs": [],
   "source": [
    "init_global_env('cn-north-4')\n",
    "\n",
    "# 准备ak,sk\n",
    "app_key = '1DZ0WPP0NFBFVZYUPGSP'  \n",
    "app_secret = 'wnHCLIUC0xhx3qsOFfewLK4s2rwi3LOropFI7gLp'\n"
   ]
  },
  {
   "cell_type": "code",
   "execution_count": 5,
   "metadata": {},
   "outputs": [
    {
     "name": "stdout",
     "output_type": "stream",
     "text": [
      "{'result': {'tags': [{'confidence': '98.5', 'i18n_tag': {'en': 'Person', 'zh': '人'}, 'tag': '人', 'type': 'object'}, {'confidence': '97.13', 'i18n_tag': {'en': 'Children', 'zh': '儿童'}, 'tag': '儿童', 'type': 'object'}, {'confidence': '96.19', 'i18n_tag': {'en': 'Sandbox', 'zh': '(供儿童玩的)沙坑'}, 'tag': '(供儿童玩的)沙坑', 'type': 'scene'}, {'confidence': '89.31', 'i18n_tag': {'en': 'Play', 'zh': '玩耍'}, 'tag': '玩耍', 'type': 'object'}, {'confidence': '87.96', 'i18n_tag': {'en': 'Toy', 'zh': '玩具'}, 'tag': '玩具', 'type': 'object'}]}}\n"
     ]
    }
   ],
   "source": [
    "# 使用网络图像测试\n",
    "demo_data_url = 'https://sdk-obs-source-save.obs.cn-north-4.myhuaweicloud.com/tagging-normal.jpg'\n",
    "# call interface use the url\n",
    "result = image_tagging_aksk(app_key, app_secret, '', demo_data_url, 'zh', 5, 30)\n",
    "\n",
    "# 转化成Python字典形式\n",
    "tags = json.loads(result)\n",
    "print(tags)\n"
   ]
  },
  {
   "cell_type": "code",
   "execution_count": 6,
   "metadata": {},
   "outputs": [
    {
     "name": "stdout",
     "output_type": "stream",
     "text": [
      "{'defog-demo.png': [{'confidence': '98.43', 'i18n_tag': {'en': 'Person', 'zh': '人'}, 'tag': '人', 'type': 'object'}, {'confidence': '87.19', 'i18n_tag': {'en': 'Campus', 'zh': '校园'}, 'tag': '校园', 'type': 'object'}, {'confidence': '84.03', 'i18n_tag': {'en': 'Character', 'zh': '人物'}, 'tag': '人物', 'type': 'object'}, {'confidence': '76.44', 'i18n_tag': {'en': 'Autumn', 'zh': '秋天'}, 'tag': '秋天', 'type': 'object'}, {'confidence': '76.14', 'i18n_tag': {'en': 'Scenery', 'zh': '风景'}, 'tag': '风景', 'type': 'object'}]}\n"
     ]
    }
   ],
   "source": [
    "# 确定电子相册位置\n",
    "file_path ='data/'\n",
    "file_name = 'defog-demo.png'\n",
    "\n",
    "# 保存图片标签的字典\n",
    "labels={}\n",
    "\n",
    "# 图像打标\n",
    "result = image_tagging_aksk(app_key, app_secret, encode_to_base64(file_path + file_name), '', 'zh', 5, 60)\n",
    "# 解析结果\n",
    "result_dic = json.loads(result)\n",
    "# 保存到字典中\n",
    "labels[file_name] = result_dic['result']['tags']\n",
    "print(labels)\n"
   ]
  },
  {
   "cell_type": "code",
   "execution_count": 7,
   "metadata": {},
   "outputs": [
    {
     "name": "stdout",
     "output_type": "stream",
     "text": [
      "{'celebrity-recognition.jpg': [{'confidence': '98.93', 'i18n_tag': {'en': 'Person', 'zh': '人'}, 'tag': '人', 'type': 'object'}, {'confidence': '98.38', 'i18n_tag': {'en': 'Human face', 'zh': '人脸'}, 'tag': '人脸', 'type': 'object'}, {'confidence': '92.05', 'i18n_tag': {'en': 'Portrait', 'zh': '肖像'}, 'tag': '肖像', 'type': 'object'}, {'confidence': '90.45', 'i18n_tag': {'en': 'Art', 'zh': '艺术'}, 'tag': '艺术', 'type': 'object'}, {'confidence': '84.43', 'i18n_tag': {'en': 'Picture', 'zh': '图片'}, 'tag': '图片', 'type': 'object'}], 'dark-enhance-demo.bmp': [{'confidence': '78.6', 'i18n_tag': {'en': 'Building', 'zh': '建筑'}, 'tag': '建筑', 'type': 'object'}, {'confidence': '62.95', 'i18n_tag': {'en': 'Light and shadow', 'zh': '光影'}, 'tag': '光影', 'type': 'object'}, {'confidence': '62.64', 'i18n_tag': {'en': 'Indoor', 'zh': '室内'}, 'tag': '室内', 'type': 'object'}, {'confidence': '60.11', 'i18n_tag': {'en': 'Decorate', 'zh': '装饰'}, 'tag': '装饰', 'type': 'object'}], 'defog-demo.png': [{'confidence': '98.43', 'i18n_tag': {'en': 'Person', 'zh': '人'}, 'tag': '人', 'type': 'object'}, {'confidence': '87.19', 'i18n_tag': {'en': 'Campus', 'zh': '校园'}, 'tag': '校园', 'type': 'object'}, {'confidence': '84.03', 'i18n_tag': {'en': 'Character', 'zh': '人物'}, 'tag': '人物', 'type': 'object'}, {'confidence': '76.44', 'i18n_tag': {'en': 'Autumn', 'zh': '秋天'}, 'tag': '秋天', 'type': 'object'}, {'confidence': '76.14', 'i18n_tag': {'en': 'Scenery', 'zh': '风景'}, 'tag': '风景', 'type': 'object'}], 'image-tagging-demo.jpg': [{'confidence': '100.0', 'i18n_tag': {'en': 'Koala', 'zh': '考拉'}, 'tag': '考拉', 'type': 'object'}, {'confidence': '100.0', 'i18n_tag': {'en': 'Marsupials', 'zh': '有袋目'}, 'tag': '有袋目', 'type': 'object'}, {'confidence': '89.57', 'i18n_tag': {'en': 'Animal', 'zh': '动物'}, 'tag': '动物', 'type': 'object'}, {'confidence': '83.05', 'i18n_tag': {'en': 'Mammal', 'zh': '哺乳动物'}, 'tag': '哺乳动物', 'type': 'object'}, {'confidence': '73.6', 'i18n_tag': {'en': 'Wild animal', 'zh': '野生动物'}, 'tag': '野生动物', 'type': 'object'}], 'recapture-detect-demo.jpg': [{'confidence': '98.98', 'i18n_tag': {'en': 'Mobile phone', 'zh': '移动电话'}, 'tag': '移动电话', 'type': 'object'}, {'confidence': '77.93', 'i18n_tag': {'en': 'Gift', 'zh': '礼品'}, 'tag': '礼品', 'type': 'object'}, {'confidence': '77.13', 'i18n_tag': {'en': 'Black and white', 'zh': '黑白'}, 'tag': '黑白', 'type': 'object'}, {'confidence': '66.95', 'i18n_tag': {'en': 'White', 'zh': '白色'}, 'tag': '白色', 'type': 'object'}, {'confidence': '65.85', 'i18n_tag': {'en': 'Black', 'zh': '黑色'}, 'tag': '黑色', 'type': 'object'}], 'super-resolution-demo.png': [{'confidence': '99.93', 'i18n_tag': {'en': 'Person', 'zh': '人'}, 'tag': '人', 'type': 'object'}, {'confidence': '95.46', 'i18n_tag': {'en': 'Sitting', 'zh': '坐着'}, 'tag': '坐着', 'type': 'object'}, {'confidence': '88.2', 'i18n_tag': {'en': 'Woman', 'zh': '女人'}, 'tag': '女人', 'type': 'object'}, {'confidence': '84.7', 'i18n_tag': {'en': 'Single', 'zh': '一个人'}, 'tag': '一个人', 'type': 'object'}, {'confidence': '84.0', 'i18n_tag': {'en': 'Beauty', 'zh': '美女'}, 'tag': '美女', 'type': 'object'}]}\n"
     ]
    }
   ],
   "source": [
    "# 确定电子相册位置\n",
    "file_path ='data/'\n",
    "# 保存图片标签的字典\n",
    "labels = {}\n",
    "\n",
    "items = os.listdir(file_path)\n",
    "for i in items:\n",
    "    # 判断是否为文件，而不是文件夹\n",
    "    if os.path.isfile:\n",
    "        # 华为云EI目前支持JPG/PNG/BMP格式的图片\n",
    "        if i.endswith('jpg') or i.endswith('jpeg') or i.endswith('bmp') or i.endswith('png'):\n",
    "            # 为图片打上标签\n",
    "            result = image_tagging_aksk(app_key, app_secret, encode_to_base64(file_path + i), '', 'zh', 5, 60)\n",
    "            # 解析返回的结果\n",
    "            result_dic = json.loads(result)\n",
    "            # 将文件名与图片对齐\n",
    "            labels[i] = result_dic['result']['tags']\n",
    "\n",
    "# 显示结果\n",
    "print(labels)\n"
   ]
  },
  {
   "cell_type": "code",
   "execution_count": 8,
   "metadata": {},
   "outputs": [],
   "source": [
    "#将标签字典保存到文件\n",
    "save_path = './label'\n",
    "# 如果文件夹不存在则创建文件\n",
    "if not os.path.exists(save_path):\n",
    "    os.mkdir(save_path)\n",
    "\n",
    "# 创建文件,执行写入操作，并关闭\n",
    "with open(save_path + '/labels.json', 'w+') as f:\n",
    "    f.write(json.dumps(labels))\n"
   ]
  },
  {
   "cell_type": "code",
   "execution_count": 9,
   "metadata": {},
   "outputs": [],
   "source": [
    "# 打开刚刚保存的文件\n",
    "label_path = 'label/labels.json'\n",
    "with open(label_path,'r') as f:\n",
    "    labels = json.load(f)\n"
   ]
  },
  {
   "cell_type": "code",
   "execution_count": 10,
   "metadata": {},
   "outputs": [
    {
     "name": "stdout",
     "output_type": "stream",
     "text": [
      "请输入搜索词人物\n",
      "['defog-demo.png']\n"
     ]
    }
   ],
   "source": [
    "# 搜索关键词\n",
    "key_word = input('请输入搜索词')\n",
    "# 设置可信百分比\n",
    "threshold = 60\n",
    "# 设置一个集合（集合内只存在唯一的元素）\n",
    "valid_list = set()\n",
    "\n",
    "# 遍历labels中的字典获取所有包含关键字的图片名字\n",
    "for k,v in labels.items():\n",
    "    for item in v:\n",
    "        if key_word in item['tag'] and float(item['confidence']) >= threshold:\n",
    "            valid_list.add(k)\n",
    "            \n",
    "            \n",
    "# 展示结果            \n",
    "valid_list = list(valid_list)\n",
    "print(valid_list)\n"
   ]
  },
  {
   "cell_type": "code",
   "execution_count": 11,
   "metadata": {},
   "outputs": [
    {
     "data": {
      "image/png": "[encoded data removed]",
      "text/plain": [
       "<Figure size 432x288 with 1 Axes>"
      ]
     },
     "metadata": {
      "needs_background": "light"
     },
     "output_type": "display_data"
    }
   ],
   "source": [
    "# 设置画布大小\n",
    "plt.figure(24)\n",
    "\n",
    "# 将每张图片依次排列到画布上\n",
    "for k,v in enumerate(valid_list[:9]):\n",
    "    pic_path = 'data/' + v\n",
    "    img = Image.open(pic_path)\n",
    "    img = img.resize((640,400))\n",
    "    plt.subplot(331 + k)\n",
    "    plt.axis('off')\n",
    "    plt.imshow(img)\n",
    "plt.show()"
   ]
  },
  {
   "cell_type": "code",
   "execution_count": 12,
   "metadata": {},
   "outputs": [
    {
     "name": "stdout",
     "output_type": "stream",
     "text": [
      "gif相册制作完成\n"
     ]
    }
   ],
   "source": [
    "# 生成一个临时文件夹\n",
    "if not os.path.exists('tmp'):\n",
    "    os.mkdir('tmp')\n",
    "\n",
    "# 将所有搜索到的图像转化为gif格式，并存储在临时文件夹中\n",
    "gif_list = []\n",
    "for k, pic in enumerate(valid_list):\n",
    "    pic_path = 'data/' + pic\n",
    "    img = Image.open(pic_path)\n",
    "    img = img.resize((640,380))\n",
    "    save_name = 'tmp/'+ str(k) + '.gif'\n",
    "    img.save(save_name)\n",
    "    gif_list.append(save_name)\n",
    "\n",
    "# 打开已经所有静止的gif图片\n",
    "images=[]\n",
    "for i in gif_list:\n",
    "    pic_path =  i\n",
    "    images.append(Image.open(pic_path))\n",
    "\n",
    "# 存储成动图gif\n",
    "images[0].save('相册动图.gif',\n",
    "               save_all=True,\n",
    "               append_images=images[1:],\n",
    "               duration=1000,\n",
    "               loop=0)\n",
    "\n",
    "# 释放内存\n",
    "del images\n",
    "# 删除临时文件夹\n",
    "shutil.rmtree('tmp')\n",
    "\n",
    "print('gif相册制作完成')\n"
   ]
  },
  {
   "cell_type": "code",
   "execution_count": 13,
   "metadata": {},
   "outputs": [
    {
     "name": "stdout",
     "output_type": "stream",
     "text": [
      "{'celebrity-recognition.jpg': [{'confidence': '98.93', 'i18n_tag': {'en': 'Person', 'zh': '人'}, 'tag': '人', 'type': 'object'}, {'confidence': '98.38', 'i18n_tag': {'en': 'Human face', 'zh': '人脸'}, 'tag': '人脸', 'type': 'object'}, {'confidence': '92.05', 'i18n_tag': {'en': 'Portrait', 'zh': '肖像'}, 'tag': '肖像', 'type': 'object'}, {'confidence': '90.45', 'i18n_tag': {'en': 'Art', 'zh': '艺术'}, 'tag': '艺术', 'type': 'object'}, {'confidence': '84.43', 'i18n_tag': {'en': 'Picture', 'zh': '图片'}, 'tag': '图片', 'type': 'object'}], 'dark-enhance-demo.bmp': [{'confidence': '78.6', 'i18n_tag': {'en': 'Building', 'zh': '建筑'}, 'tag': '建筑', 'type': 'object'}, {'confidence': '62.95', 'i18n_tag': {'en': 'Light and shadow', 'zh': '光影'}, 'tag': '光影', 'type': 'object'}, {'confidence': '62.64', 'i18n_tag': {'en': 'Indoor', 'zh': '室内'}, 'tag': '室内', 'type': 'object'}, {'confidence': '60.11', 'i18n_tag': {'en': 'Decorate', 'zh': '装饰'}, 'tag': '装饰', 'type': 'object'}], 'defog-demo.png': [{'confidence': '98.43', 'i18n_tag': {'en': 'Person', 'zh': '人'}, 'tag': '人', 'type': 'object'}, {'confidence': '87.19', 'i18n_tag': {'en': 'Campus', 'zh': '校园'}, 'tag': '校园', 'type': 'object'}, {'confidence': '84.03', 'i18n_tag': {'en': 'Character', 'zh': '人物'}, 'tag': '人物', 'type': 'object'}, {'confidence': '76.44', 'i18n_tag': {'en': 'Autumn', 'zh': '秋天'}, 'tag': '秋天', 'type': 'object'}, {'confidence': '76.14', 'i18n_tag': {'en': 'Scenery', 'zh': '风景'}, 'tag': '风景', 'type': 'object'}], 'image-tagging-demo.jpg': [{'confidence': '100.0', 'i18n_tag': {'en': 'Koala', 'zh': '考拉'}, 'tag': '考拉', 'type': 'object'}, {'confidence': '100.0', 'i18n_tag': {'en': 'Marsupials', 'zh': '有袋目'}, 'tag': '有袋目', 'type': 'object'}, {'confidence': '89.57', 'i18n_tag': {'en': 'Animal', 'zh': '动物'}, 'tag': '动物', 'type': 'object'}, {'confidence': '83.05', 'i18n_tag': {'en': 'Mammal', 'zh': '哺乳动物'}, 'tag': '哺乳动物', 'type': 'object'}, {'confidence': '73.6', 'i18n_tag': {'en': 'Wild animal', 'zh': '野生动物'}, 'tag': '野生动物', 'type': 'object'}], 'recapture-detect-demo.jpg': [{'confidence': '98.98', 'i18n_tag': {'en': 'Mobile phone', 'zh': '移动电话'}, 'tag': '移动电话', 'type': 'object'}, {'confidence': '77.93', 'i18n_tag': {'en': 'Gift', 'zh': '礼品'}, 'tag': '礼品', 'type': 'object'}, {'confidence': '77.13', 'i18n_tag': {'en': 'Black and white', 'zh': '黑白'}, 'tag': '黑白', 'type': 'object'}, {'confidence': '66.95', 'i18n_tag': {'en': 'White', 'zh': '白色'}, 'tag': '白色', 'type': 'object'}, {'confidence': '65.85', 'i18n_tag': {'en': 'Black', 'zh': '黑色'}, 'tag': '黑色', 'type': 'object'}], 'super-resolution-demo.png': [{'confidence': '99.93', 'i18n_tag': {'en': 'Person', 'zh': '人'}, 'tag': '人', 'type': 'object'}, {'confidence': '95.46', 'i18n_tag': {'en': 'Sitting', 'zh': '坐着'}, 'tag': '坐着', 'type': 'object'}, {'confidence': '88.2', 'i18n_tag': {'en': 'Woman', 'zh': '女人'}, 'tag': '女人', 'type': 'object'}, {'confidence': '84.7', 'i18n_tag': {'en': 'Single', 'zh': '一个人'}, 'tag': '一个人', 'type': 'object'}, {'confidence': '84.0', 'i18n_tag': {'en': 'Beauty', 'zh': '美女'}, 'tag': '美女', 'type': 'object'}]}\n",
      "已完成移复制!\n"
     ]
    }
   ],
   "source": [
    "# 打开保存的labels文件\n",
    "label_path = 'label/labels.json'\n",
    "with open(label_path,'r') as f:\n",
    "    labels = json.load(f)\n",
    "print(labels)\n",
    "\n",
    "# 获取置信度最高的文件分类\n",
    "classes =[[v[0]['tag'],k] for k, v in labels.items()]\n",
    "classes\n",
    "\n",
    "\n",
    "for cls in classes:\n",
    "    if not os.path.exists('data/' + cls[0]):\n",
    "        os.mkdir('data/'+ cls[0])\n",
    "    # 复制被对应的图片\n",
    "    shutil.copy('data/'+ cls[1], 'data/'+ cls[0]+ '/' + cls[1])\n",
    "\n",
    "print('已完成移复制!')\n"
   ]
  },
  {
   "cell_type": "code",
   "execution_count": null,
   "metadata": {},
   "outputs": [],
   "source": []
  },
  {
   "cell_type": "code",
   "execution_count": null,
   "metadata": {},
   "outputs": [],
   "source": []
  },
  {
   "cell_type": "code",
   "execution_count": null,
   "metadata": {},
   "outputs": [],
   "source": []
  },
  {
   "cell_type": "code",
   "execution_count": null,
   "metadata": {},
   "outputs": [],
   "source": []
  }
 ],
 "metadata": {
  "kernelspec": {
   "display_name": "Python 3",
   "language": "python",
   "name": "python3"
  },
  "language_info": {
   "codemirror_mode": {
    "name": "ipython",
    "version": 3
   },
   "file_extension": ".py",
   "mimetype": "text/x-python",
   "name": "python",
   "nbconvert_exporter": "python",
   "pygments_lexer": "ipython3",
   "version": "3.8.10"
  }
 },
 "nbformat": 4,
 "nbformat_minor": 4
}
